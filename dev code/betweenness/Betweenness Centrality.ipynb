{
 "cells": [
  {
   "cell_type": "code",
   "execution_count": 5,
   "metadata": {},
   "outputs": [],
   "source": [
    "import numpy as np\n",
    "import networkx as nx\n",
    "import pandas as pd\n",
    "import itertools\n",
    "import matplotlib.pyplot as plt\n",
    "import seaborn as sns\n",
    "import os\n",
    "import linecache\n",
    "import random"
   ]
  },
  {
   "cell_type": "code",
   "execution_count": 17,
   "metadata": {},
   "outputs": [],
   "source": [
    "import sys\n",
    "root_dir = \"\\\\\".join(sys.path[0].split(\"\\\\\")[:-2])"
   ]
  },
  {
   "cell_type": "code",
   "execution_count": 20,
   "metadata": {},
   "outputs": [],
   "source": [
    "KG = nx.read_gpickle(root_dir+\"\\\\data\\\\graph\\\\training_KG_concepts.gpickle\")\n",
    "G = nx.convert_node_labels_to_integers(KG)"
   ]
  },
  {
   "cell_type": "code",
   "execution_count": 3,
   "metadata": {},
   "outputs": [],
   "source": [
    "all_nodes = list(KG.nodes)"
   ]
  },
  {
   "cell_type": "markdown",
   "metadata": {},
   "source": [
    "10000 pivots"
   ]
  },
  {
   "cell_type": "code",
   "execution_count": 123,
   "metadata": {},
   "outputs": [],
   "source": [
    "# betweenness_dict_10000 = nx.betweenness_centrality(KG, k=10000)\n",
    "# np.save(root_dir+\"\\\\data\\\\betweenness\\\\betweenness_dict_10000.npy\", betweenness_dict_10000)"
   ]
  },
  {
   "cell_type": "code",
   "execution_count": 21,
   "metadata": {},
   "outputs": [],
   "source": [
    "betweenness_dict_10000 = np.load(\n",
    "    root_dir+\"\\\\data\\\\betweenness\\\\betweenness_dict_10000.npy\",\n",
    "    allow_pickle=True\n",
    ").item()"
   ]
  },
  {
   "cell_type": "code",
   "execution_count": 26,
   "metadata": {},
   "outputs": [],
   "source": [
    "edges_cc = pd.read_csv(root_dir+\"\\\\data\\\\og\\\\edges_cc.csv\")\n",
    "all_edges = [\n",
    "    (edges_cc.src[i], edges_cc.dst[i]) \\\n",
    "    for i \\\n",
    "    in range(len(edges_cc))\n",
    "]"
   ]
  },
  {
   "cell_type": "code",
   "execution_count": 29,
   "metadata": {},
   "outputs": [],
   "source": [
    "training_edges = list(KG.edges())\n",
    "validation_edges = list(set(all_edges)-set(training_edges))"
   ]
  },
  {
   "cell_type": "code",
   "execution_count": null,
   "metadata": {},
   "outputs": [],
   "source": [
    "training_betweenness = [\n",
    "    max(betweenness_dict_10000[edge[0]], betweenness_dict_10000[edge[1]]) \\\n",
    "    for edge in training_edges\n",
    "]"
   ]
  },
  {
   "cell_type": "code",
   "execution_count": null,
   "metadata": {},
   "outputs": [],
   "source": [
    "validation_betweenness = [\n",
    "    max(betweenness_dict_10000[edge[0]], betweenness_dict_10000[edge[1]]) \\\n",
    "    for edge in validation_edges \\\n",
    "    if edge[0] in betweenness_dict_1000 \\\n",
    "    and edge[1] in betweenness_dict_1000\n",
    "]"
   ]
  },
  {
   "cell_type": "markdown",
   "metadata": {},
   "source": []
  },
  {
   "cell_type": "code",
   "execution_count": 113,
   "metadata": {},
   "outputs": [],
   "source": [
    "n = 1000\n",
    "all_pairs = []\n",
    "no_edge = []\n",
    "validation = validation_betweenness\n",
    "while len(all_pairs)<n or len(no_edge)<n or len(validation)<n:\n",
    "    pair = sample_node_pair(G)\n",
    "    all_pairs.append((all_nodes[pair[0]], all_nodes[pair[1]]))\n",
    "    if pair not in G.edges and pair[::-1] not in G.edges:\n",
    "        KG_pair = (all_nodes[pair[0]], all_nodes[pair[1]])\n",
    "        if KG_pair not in validation_edges and KG_pair[::-1] not in validation_edges:\n",
    "            no_edge.append(KG_pair)"
   ]
  },
  {
   "cell_type": "markdown",
   "metadata": {},
   "source": [
    "Betweenness Centrality Measurements"
   ]
  },
  {
   "cell_type": "code",
   "execution_count": 168,
   "metadata": {},
   "outputs": [
    {
     "name": "stdout",
     "output_type": "stream",
     "text": [
      "3.152923470410504e-05 3.152923470410504e-05 4.868083758260043e-05 6.070955215276072e-05\n",
      "2.5454035829468216e-08 2.5454035829468216e-08 1.673187125220225e-08 9.015066146597986e-08\n"
     ]
    }
   ],
   "source": [
    "all_pairs_betweenness = []\n",
    "for i in set(itertools.chain(*all_pairs)):\n",
    "    try:\n",
    "        all_pairs_betweenness.append(betweenness_dict_10000[i])\n",
    "    except:\n",
    "        continue\n",
    "no_edge_betweenness = []\n",
    "for i in set(itertools.chain(*no_edge)):\n",
    "    try:\n",
    "        no_edge_betweenness.append(betweenness_dict_10000[i])\n",
    "    except:\n",
    "        continue\n",
    "training_betweenness = []\n",
    "for i in set(itertools.chain(*training_edges)):\n",
    "    try:\n",
    "        training_betweenness.append(betweenness_dict_10000[i])\n",
    "    except:\n",
    "        continue\n",
    "validation_betweenness = []\n",
    "for i in set(itertools.chain(*validation_edges)):\n",
    "    try:\n",
    "        validation_betweenness.append(betweenness_dict_10000[i])\n",
    "    except:\n",
    "        continue\n",
    "print(\n",
    "    np.mean(all_pairs_betweenness),\n",
    "    np.mean(no_edge_betweenness),\n",
    "    np.mean(training_betweenness),\n",
    "    np.mean(validation_betweenness)\n",
    ")\n",
    "print(\n",
    "    np.median(all_pairs_betweenness),\n",
    "    np.median(no_edge_betweenness),\n",
    "    np.median(training_betweenness),\n",
    "    np.median(validation_betweenness)\n",
    ")"
   ]
  },
  {
   "cell_type": "code",
   "execution_count": 173,
   "metadata": {},
   "outputs": [
    {
     "data": {
      "image/png": "[encoded data removed]",
      "text/plain": [
       "<Figure size 432x288 with 1 Axes>"
      ]
     },
     "metadata": {
      "needs_background": "light"
     },
     "output_type": "display_data"
    }
   ],
   "source": [
    "df = pd.DataFrame(\n",
    "    data = {\n",
    "    \"Normalized Betweenness (Unique Nodes)\" : no_edge_betweenness+training_betweenness+validation_betweenness,\n",
    "    \"\" : [\"No Edge\"]*len(no_edge_betweenness)+[\"Training\"]*len(training_betweenness)+[\"Validation\"]*len(validation_betweenness)\n",
    "    }\n",
    ")\n",
    "\n",
    "#palette = {\"Training\": \"#ABC9EA\", \"Validation\": \"#EFB792\"}\n",
    "palette = sns.color_palette(\"pastel\")\n",
    "g = sns.boxplot(x=\"\", y=\"Normalized Betweenness (Unique Nodes)\",\n",
    "                data=df, palette=palette)\n",
    "g.set_yscale(\"log\")"
   ]
  },
  {
   "cell_type": "code",
   "execution_count": 166,
   "metadata": {},
   "outputs": [
    {
     "name": "stdout",
     "output_type": "stream",
     "text": [
      "6.104272853075284e-05 6.104272853075284e-05 0.01794318704090299 0.025150662699374528\n",
      "9.450478083638085e-07 9.450478083638085e-07 0.0012565999886861587 0.001276138042161686\n"
     ]
    }
   ],
   "source": [
    "all_pairs_betweenness = []\n",
    "for i in all_pairs:\n",
    "    try:\n",
    "        b = max(betweenness_dict_10000[i[0]], betweenness_dict_10000[i[1]])\n",
    "        if b != b:\n",
    "            continue\n",
    "        all_pairs_betweenness.append(b)\n",
    "    except:\n",
    "        continue\n",
    "no_edge_betweenness = []\n",
    "for i in no_edge:\n",
    "    try:\n",
    "        b = max(betweenness_dict_10000[i[0]], betweenness_dict_10000[i[1]])\n",
    "        if b != b:\n",
    "            continue\n",
    "        no_edge_betweenness.append(b)\n",
    "    except:\n",
    "        continue\n",
    "training_betweenness = []\n",
    "for i in training_edges:\n",
    "    try:\n",
    "        b = max(betweenness_dict_10000[i[0]], betweenness_dict_10000[i[1]])\n",
    "        if b != b:\n",
    "            continue\n",
    "        training_betweenness.append(b)\n",
    "    except:\n",
    "        continue\n",
    "validation_betweenness = []\n",
    "for i in validation_edges:\n",
    "    try:\n",
    "        b = max(betweenness_dict_10000[i[0]], betweenness_dict_10000[i[1]])\n",
    "        if b != b:\n",
    "            continue\n",
    "        validation_betweenness.append(b)\n",
    "    except:\n",
    "        continue\n",
    "print(\n",
    "    np.mean(all_pairs_betweenness),\n",
    "    np.mean(no_edge_betweenness),\n",
    "    np.mean(training_betweenness),\n",
    "    np.mean(validation_betweenness)\n",
    ")\n",
    "print(\n",
    "    np.median(all_pairs_betweenness),\n",
    "    np.median(no_edge_betweenness),\n",
    "    np.median(training_betweenness),\n",
    "    np.median(validation_betweenness)\n",
    ")"
   ]
  },
  {
   "cell_type": "code",
   "execution_count": 167,
   "metadata": {},
   "outputs": [
    {
     "data": {
      "image/png": "[encoded data removed]",
      "text/plain": [
       "<Figure size 432x288 with 1 Axes>"
      ]
     },
     "metadata": {
      "needs_background": "light"
     },
     "output_type": "display_data"
    }
   ],
   "source": [
    "df = pd.DataFrame(\n",
    "    data = {\n",
    "    \"Normalized Betweenness (Pairwise Max)\" : no_edge_betweenness+training_betweenness+validation_betweenness,\n",
    "    \"\" : [\"No Edge\"]*len(no_edge_betweenness)+[\"Training\"]*len(training_betweenness)+[\"Validation\"]*len(validation_betweenness)\n",
    "    }\n",
    ")\n",
    "\n",
    "#palette = {\"All Pairs\": \"black\", \"No Edge\": \"black\", \"Training\": \"#ABC9EA\", \"Validation\": \"#EFB792\"}\n",
    "palette = sns.color_palette(\"pastel\")\n",
    "g = sns.boxplot(x=\"\", y=\"Normalized Betweenness (Pairwise Max)\",\n",
    "                data=df, palette=palette)\n",
    "g.set_yscale(\"log\")"
   ]
  },
  {
   "cell_type": "code",
   "execution_count": null,
   "metadata": {},
   "outputs": [],
   "source": []
  },
  {
   "cell_type": "code",
   "execution_count": null,
   "metadata": {},
   "outputs": [],
   "source": []
  }
 ],
 "metadata": {
  "kernelspec": {
   "display_name": "Python 3",
   "language": "python",
   "name": "python3"
  },
  "language_info": {
   "codemirror_mode": {
    "name": "ipython",
    "version": 3
   },
   "file_extension": ".py",
   "mimetype": "text/x-python",
   "name": "python",
   "nbconvert_exporter": "python",
   "pygments_lexer": "ipython3",
   "version": "3.8.5"
  }
 },
 "nbformat": 4,
 "nbformat_minor": 4
}
