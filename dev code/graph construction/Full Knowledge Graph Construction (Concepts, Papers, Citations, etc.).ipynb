{
 "cells": [
  {
   "cell_type": "code",
   "execution_count": 1,
   "metadata": {},
   "outputs": [],
   "source": [
    "import pandas as pd\n",
    "import networkx as nx\n",
    "import matplotlib.pyplot as plt"
   ]
  },
  {
   "cell_type": "code",
   "execution_count": null,
   "metadata": {},
   "outputs": [],
   "source": [
    "import sys\n",
    "root_dir = \"\\\\\".join(sys.path[0].split(\"\\\\\")[:-2])"
   ]
  },
  {
   "cell_type": "code",
   "execution_count": 50,
   "metadata": {},
   "outputs": [],
   "source": [
    "KG = nx.MultiDiGraph()"
   ]
  },
  {
   "cell_type": "markdown",
   "metadata": {},
   "source": [
    "Add concepts and concept links"
   ]
  },
  {
   "cell_type": "code",
   "execution_count": null,
   "metadata": {},
   "outputs": [],
   "source": [
    "edges_cc = pd.read_csv(root_dir+\"\\\\data\\\\og\\\\edges_cc.csv\")\n",
    "unique_concepts = list(set(edges_cc.values.flatten()))"
   ]
  },
  {
   "cell_type": "code",
   "execution_count": 51,
   "metadata": {},
   "outputs": [],
   "source": [
    "for concept in unique_concepts:\n",
    "    if concept == concept:\n",
    "        KG.add_node(concept, node_type = \"concept\")"
   ]
  },
  {
   "cell_type": "code",
   "execution_count": 52,
   "metadata": {},
   "outputs": [],
   "source": [
    "for i in range(len(edges_cc)):\n",
    "    KG.add_edges_from(\n",
    "        [(edges_cc.src[i], edges_cc.dst[i]), \n",
    "         (edges_cc.dst[i], edges_cc.src[i])],\n",
    "        relation = \"concept_link\",\n",
    "        color = \"red\")"
   ]
  },
  {
   "cell_type": "code",
   "execution_count": 53,
   "metadata": {},
   "outputs": [],
   "source": [
    "#list(KG.edges(data=True))\n",
    "#list(KG.nodes(data=True))"
   ]
  },
  {
   "cell_type": "markdown",
   "metadata": {},
   "source": [
    "Add papers and citations"
   ]
  },
  {
   "cell_type": "code",
   "execution_count": 54,
   "metadata": {},
   "outputs": [],
   "source": [
    "edges_pp = pd.read_csv(root_dir+\"\\\\data\\\\og\\\\edges_pp.csv\")\n",
    "papers = pd.read_csv(root_dir+\"\\\\data\\\\og\\\\papers.csv\")"
   ]
  },
  {
   "cell_type": "code",
   "execution_count": 55,
   "metadata": {},
   "outputs": [],
   "source": [
    "for i in range(len(papers)):\n",
    "    KG.add_node(\n",
    "        papers.id[i],\n",
    "        node_type = \"paper\",\n",
    "        year = papers.year[i],\n",
    "        month = papers.month[i],\n",
    "        doi = papers.doi[i])"
   ]
  },
  {
   "cell_type": "code",
   "execution_count": 56,
   "metadata": {},
   "outputs": [],
   "source": [
    "for i in range(len(edges_pp)):\n",
    "    KG.add_edges_from(\n",
    "        [(edges_pp.src[i], edges_pp.dst[i])],\n",
    "        relation = \"citation\",\n",
    "        color = \"blue\")"
   ]
  },
  {
   "cell_type": "markdown",
   "metadata": {},
   "source": [
    "Add concept-paper links"
   ]
  },
  {
   "cell_type": "code",
   "execution_count": 58,
   "metadata": {},
   "outputs": [],
   "source": [
    "edges_pc = pd.read_csv(root_dir+\"\\\\data\\\\og\\\\edges_pc.csv\")"
   ]
  },
  {
   "cell_type": "code",
   "execution_count": 59,
   "metadata": {},
   "outputs": [],
   "source": [
    "for i in range(len(edges_pc)):\n",
    "    KG.add_edges_from(\n",
    "        [(edges_pc.src[i], edges_pc.dst[i]),\n",
    "         (edges_pc.dst[i], edges_pc.src[i])],\n",
    "        relation = \"paperconcept_link\",\n",
    "        color = \"yellow\")"
   ]
  },
  {
   "cell_type": "markdown",
   "metadata": {},
   "source": [
    "Save/export graph"
   ]
  },
  {
   "cell_type": "code",
   "execution_count": 61,
   "metadata": {},
   "outputs": [],
   "source": [
    "# nx.write_gpickle(KG, \"KG_detailed.gpickle\")\n",
    "# #KG = nx.read_gpickle(\"KG.gpickle\")"
   ]
  },
  {
   "cell_type": "markdown",
   "metadata": {},
   "source": [
    "Visualize"
   ]
  },
  {
   "cell_type": "code",
   "execution_count": 63,
   "metadata": {},
   "outputs": [],
   "source": [
    "#nx.draw(KG)\n",
    "#plt.draw()"
   ]
  },
  {
   "cell_type": "code",
   "execution_count": null,
   "metadata": {},
   "outputs": [],
   "source": []
  }
 ],
 "metadata": {
  "kernelspec": {
   "display_name": "Python 3",
   "language": "python",
   "name": "python3"
  },
  "language_info": {
   "codemirror_mode": {
    "name": "ipython",
    "version": 3
   },
   "file_extension": ".py",
   "mimetype": "text/x-python",
   "name": "python",
   "nbconvert_exporter": "python",
   "pygments_lexer": "ipython3",
   "version": "3.8.5"
  }
 },
 "nbformat": 4,
 "nbformat_minor": 4
}
