{
 "cells": [
  {
   "cell_type": "code",
   "execution_count": 176,
   "metadata": {},
   "outputs": [],
   "source": [
    "import pandas as pd\n",
    "import networkx as nx\n",
    "import matplotlib.pyplot as plt\n",
    "import pickle\n",
    "import time\n",
    "import numpy as np"
   ]
  },
  {
   "cell_type": "code",
   "execution_count": null,
   "metadata": {},
   "outputs": [],
   "source": [
    "import sys\n",
    "root_dir = \"\\\\\".join(sys.path[0].split(\"\\\\\")[:-2])"
   ]
  },
  {
   "cell_type": "code",
   "execution_count": 38,
   "metadata": {},
   "outputs": [],
   "source": [
    "def save_obj(obj, name):\n",
    "    with open('data/'+ name + '.pkl', 'wb') as f:\n",
    "        pickle.dump(obj, f, pickle.HIGHEST_PROTOCOL)\n",
    "\n",
    "def load_obj(name):\n",
    "    with open('data/' + name + '.pkl', 'rb') as f:\n",
    "        return pickle.load(f)"
   ]
  },
  {
   "cell_type": "code",
   "execution_count": 2,
   "metadata": {},
   "outputs": [],
   "source": [
    "KG = nx.read_gpickle(root_dir+\"\\\\data\\\\graph\\\\training_KG_concepts.gpickle\")"
   ]
  },
  {
   "cell_type": "code",
   "execution_count": 4,
   "metadata": {},
   "outputs": [],
   "source": [
    "all_concepts = list(KG.nodes())\n",
    "all_concepts_edges = list(KG.edges())"
   ]
  },
  {
   "cell_type": "code",
   "execution_count": 11,
   "metadata": {},
   "outputs": [],
   "source": [
    "edges_pc = pd.read_csv(root_dir+\"\\\\data\\\\og\\\\edges_pc.csv\")[[\"dst\", \"src\"]]\n",
    "papers = pd.read_csv(root_dir+\"\\\\data\\\\og\\\\papers.csv\")\n",
    "papers = papers.fillna(0)\n",
    "papers[\"yearmonth\"] = papers[\"year\"]*12+papers[\"month\"]"
   ]
  },
  {
   "cell_type": "code",
   "execution_count": 27,
   "metadata": {},
   "outputs": [],
   "source": [
    "papers_dict = {}\n",
    "for i in range(len(papers)):\n",
    "    paper_id = papers.id[i]\n",
    "    papers_dict[paper_id] = papers.yearmonth[i]"
   ]
  },
  {
   "cell_type": "code",
   "execution_count": 33,
   "metadata": {},
   "outputs": [],
   "source": [
    "concepts_dates = {}\n",
    "for i in range(len(edges_pc)):\n",
    "    concept = edges_pc.dst[i]\n",
    "    paper = edges_pc.src[i]\n",
    "    if concept in concepts_dates:\n",
    "        concepts_dates[concept].append(\n",
    "            papers_dict[str(paper)])\n",
    "    else:\n",
    "        concepts_dates[concept] = [\n",
    "            papers_dict[str(paper)]]\n",
    "save_obj(concepts_dates, \"concepts_dates\")"
   ]
  },
  {
   "cell_type": "code",
   "execution_count": 50,
   "metadata": {},
   "outputs": [],
   "source": [
    "concepts_last_dates = {}\n",
    "for concept in all_concepts:\n",
    "    if concept not in concepts_dates:\n",
    "        continue\n",
    "    concepts_last_dates[concept] = max(concepts_dates[concept])\n",
    "save_obj(concepts_last_dates, \"concepts_last_dates\")"
   ]
  },
  {
   "cell_type": "code",
   "execution_count": 53,
   "metadata": {},
   "outputs": [],
   "source": [
    "june_2020 = 2020*12+6"
   ]
  },
  {
   "cell_type": "markdown",
   "metadata": {},
   "source": [
    "Collect training and validation papers"
   ]
  },
  {
   "cell_type": "code",
   "execution_count": 61,
   "metadata": {},
   "outputs": [],
   "source": [
    "all_concepts_edges = list(KG.edges())\n",
    "all_concepts_edges = [\n",
    "    i for i \\\n",
    "    in all_concepts_edges \\\n",
    "    if i[0]==i[0] and i[1]==i[1]\n",
    "]"
   ]
  },
  {
   "cell_type": "code",
   "execution_count": null,
   "metadata": {},
   "outputs": [],
   "source": [
    "training_papers = [\n",
    "    paper for paper \\\n",
    "    in papers_dict \\\n",
    "    if papers_dict[paper]<=june_2020\n",
    "]\n",
    "validation_papers = [\n",
    "    paper for paper \\\n",
    "    in papers_dict \\\n",
    "    if papers_dict[paper]>june_2020\n",
    "]\n",
    "save_obj(training_papers, \"training_papers\")\n",
    "save_obj(validation_papers, \"validation_papers\")"
   ]
  },
  {
   "cell_type": "markdown",
   "metadata": {},
   "source": [
    "Collect training and validation edges"
   ]
  },
  {
   "cell_type": "code",
   "execution_count": null,
   "metadata": {},
   "outputs": [],
   "source": [
    "training_edges_pc = edges_pc[edges_pc[\"src\"].isin(training_papers)]"
   ]
  },
  {
   "cell_type": "code",
   "execution_count": 171,
   "metadata": {},
   "outputs": [],
   "source": [
    "training_concepts = list(set(training_edges_pc.dst.values.tolist()))\n",
    "training_papers = list(set(training_edges_pc.src.values.tolist()))"
   ]
  },
  {
   "cell_type": "code",
   "execution_count": null,
   "metadata": {},
   "outputs": [],
   "source": [
    "training_edges = []\n",
    "validation_edges = []\n",
    "for i in range(len(all_concepts_edges)):\n",
    "    edge = all_concepts_edges[i]\n",
    "    concept0_papers = training_edges_pc[\n",
    "        (training_edges_pc[\"dst\"]==edge[0])\n",
    "    ].src\n",
    "    concept1_papers = training_edges_pc[\n",
    "        (training_edges_pc[\"dst\"]==edge[1])\n",
    "    ].src\n",
    "    common_papers = set(concept0_papers).intersection(set(concept1_papers))\n",
    "    if common_papers:\n",
    "        training_edges.append(edge)\n",
    "    else:\n",
    "        validation_edges.append(edge)"
   ]
  },
  {
   "cell_type": "code",
   "execution_count": 201,
   "metadata": {},
   "outputs": [],
   "source": [
    "save_obj(training_edges, \"training_edges\")\n",
    "save_obj(validation_edges, \"validation_edges\")"
   ]
  },
  {
   "cell_type": "code",
   "execution_count": 208,
   "metadata": {},
   "outputs": [],
   "source": [
    "training_concepts = list(set(\n",
    "    [i[0] for i in training_edges] \\\n",
    "    +[i[1] for i in training_edges]\n",
    "))\n",
    "validation_concepts = list(set(\n",
    "    [i[0] for i in validation_edges] \\\n",
    "    +[i[1] for i in validation_edges]\n",
    "))\n",
    "\n",
    "save_obj(training_concepts, \"training_concepts\")\n",
    "save_obj(validation_concepts, \"validation_concepts\")"
   ]
  },
  {
   "cell_type": "markdown",
   "metadata": {},
   "source": [
    "Create Training Concept Graph"
   ]
  },
  {
   "cell_type": "code",
   "execution_count": 212,
   "metadata": {},
   "outputs": [],
   "source": [
    "training_KG = nx.Graph()"
   ]
  },
  {
   "cell_type": "code",
   "execution_count": 213,
   "metadata": {},
   "outputs": [],
   "source": [
    "for concept in training_concepts:\n",
    "    if concept == concept:\n",
    "        training_KG.add_node(concept, node_type = \"concept\")"
   ]
  },
  {
   "cell_type": "code",
   "execution_count": 214,
   "metadata": {},
   "outputs": [],
   "source": [
    "training_KG.add_edges_from(training_edges)"
   ]
  },
  {
   "cell_type": "code",
   "execution_count": 219,
   "metadata": {},
   "outputs": [
    {
     "name": "stdout",
     "output_type": "stream",
     "text": [
      "Edges:  300673\n",
      "Nodes:  46669\n"
     ]
    }
   ],
   "source": [
    "print(\"Edges: \", len(list(training_KG.edges(data=True))))\n",
    "print(\"Nodes: \", len(list(training_KG.nodes(data=True))))"
   ]
  },
  {
   "cell_type": "code",
   "execution_count": 220,
   "metadata": {},
   "outputs": [],
   "source": [
    "nx.write_gpickle(training_KG, \"training_KG_concepts.gpickle\")\n",
    "#KG = nx.read_gpickle(\"training_KG_concepts.gpickle\")"
   ]
  }
 ],
 "metadata": {
  "kernelspec": {
   "display_name": "Python 3",
   "language": "python",
   "name": "python3"
  },
  "language_info": {
   "codemirror_mode": {
    "name": "ipython",
    "version": 3
   },
   "file_extension": ".py",
   "mimetype": "text/x-python",
   "name": "python",
   "nbconvert_exporter": "python",
   "pygments_lexer": "ipython3",
   "version": "3.8.5"
  }
 },
 "nbformat": 4,
 "nbformat_minor": 4
}
