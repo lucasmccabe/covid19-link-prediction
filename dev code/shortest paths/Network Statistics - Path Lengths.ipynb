{
 "cells": [
  {
   "cell_type": "markdown",
   "metadata": {},
   "source": [
    "Analyze and visualize the provided graph and provide statistics such as, betweenness centrality, average path length and frequency of concept occurrence in different paths."
   ]
  },
  {
   "cell_type": "code",
   "execution_count": 51,
   "metadata": {},
   "outputs": [],
   "source": [
    "import time\n",
    "import itertools\n",
    "import random\n",
    "import os\n",
    "import pickle\n",
    "import json\n",
    "import linecache\n",
    "import numpy as np\n",
    "import pandas as pd\n",
    "from scipy import stats\n",
    "\n",
    "import networkx as nx\n",
    "\n",
    "import matplotlib.pyplot as plt\n",
    "import seaborn as sns"
   ]
  },
  {
   "cell_type": "markdown",
   "metadata": {},
   "source": [
    "### Get Validation Edges"
   ]
  },
  {
   "cell_type": "markdown",
   "metadata": {},
   "source": [
    "Identifying the Validation Edges, and obtaining the shortest path lengths between these pairs in the Training Graph."
   ]
  },
  {
   "cell_type": "code",
   "execution_count": 5,
   "metadata": {},
   "outputs": [],
   "source": [
    "KG = nx.read_gpickle(\"../training_KG_concepts.gpickle\")"
   ]
  },
  {
   "cell_type": "code",
   "execution_count": 6,
   "metadata": {},
   "outputs": [],
   "source": [
    "edges_cc = pd.read_csv(\"data/edges_cc.csv\")\n",
    "all_edges = [\n",
    "    (edges_cc.src[i], edges_cc.dst[i]) \\\n",
    "    for i \\\n",
    "    in range(len(edges_cc))\n",
    "]\n",
    "\n",
    "KG = nx.read_gpickle(\"training_KG_concepts.gpickle\")\n",
    "\n",
    "training_edges = list(KG.edges())\n",
    "validation_edges = [\n",
    "    edge \\\n",
    "    for edge \\\n",
    "    in all_edges \\\n",
    "    if edge not in training_edges\n",
    "]\n",
    "validation_edges = list(set(all_edges)-set(training_edges))"
   ]
  },
  {
   "cell_type": "code",
   "execution_count": 42,
   "metadata": {},
   "outputs": [],
   "source": [
    "validation_edge_lengths = []\n",
    "for edge in validation_edges[-1]:\n",
    "    try:\n",
    "        dist = nx.astar_path_length(KG, edge[0], edge[1])\n",
    "    except:\n",
    "        continue\n",
    "    if dist > 1:\n",
    "        validation_edge_lengths.append((edge[0], edge[1], dist))\n",
    "with open(\"validation_edge_lengths.json\", \"w\") as f:\n",
    "    json.dump(validation_edge_lengths,f)"
   ]
  },
  {
   "cell_type": "code",
   "execution_count": 60,
   "metadata": {},
   "outputs": [],
   "source": [
    "validation_lengths = [edge[2] for edge in validation_edge_lengths]\n",
    "validation_lengths_freq = {}\n",
    "for i in set(validation_lengths):\n",
    "    validation_lengths_freq[i] = validation_lengths.count(i)/len(validation_lengths)"
   ]
  },
  {
   "cell_type": "code",
   "execution_count": null,
   "metadata": {},
   "outputs": [],
   "source": []
  },
  {
   "cell_type": "code",
   "execution_count": 147,
   "metadata": {},
   "outputs": [
    {
     "data": {
      "text/plain": [
       "(2.3628037611429966, 0.5412646288257684)"
      ]
     },
     "execution_count": 147,
     "metadata": {},
     "output_type": "execute_result"
    }
   ],
   "source": [
    "np.mean(validation_lengths), np.std(validation_lengths)"
   ]
  },
  {
   "cell_type": "code",
   "execution_count": 108,
   "metadata": {},
   "outputs": [
    {
     "data": {
      "text/plain": [
       "5"
      ]
     },
     "execution_count": 108,
     "metadata": {},
     "output_type": "execute_result"
    }
   ],
   "source": [
    "np.max(validation_lengths)"
   ]
  },
  {
   "cell_type": "markdown",
   "metadata": {},
   "source": [
    "### Shortest Paths"
   ]
  },
  {
   "cell_type": "code",
   "execution_count": 43,
   "metadata": {},
   "outputs": [],
   "source": [
    "def retrieve_all_paths(node):\n",
    "    \"\"\"\n",
    "    Retrieves all shortest paths from a particular node.\n",
    "    \"\"\"\n",
    "    file_ranges = [\n",
    "        [int(i) for i in s.split(\"_\")[:2]] \\\n",
    "        for s \\\n",
    "        in os.listdir(\"shortest_paths\")\n",
    "    ]\n",
    "    for r in file_ranges:\n",
    "        if r[0]<=node<=r[1]:\n",
    "            file = \"shortest_paths/%d_%d_lengths.txt\"%(r[0], r[1])\n",
    "            break\n",
    "    line = node - r[0] + 1\n",
    "    paths = linecache.getline(\n",
    "        \"shortest_paths/0_1_paths.txt\",\n",
    "        line)\n",
    "    return [\n",
    "        [int(j) for j in i[1:].split(\", \")] \\\n",
    "        for i \\\n",
    "        in paths[1:-3].split(\"], \")\n",
    "    ]\n",
    "\n",
    "def retrieve_all_lengths(node):\n",
    "    \"\"\"\n",
    "    Retrieves all shortest path lengths from a particular node.\n",
    "    \"\"\"\n",
    "    file_ranges = [\n",
    "        [int(i) for i in s.split(\"_\")[:2]] \\\n",
    "        for s \\\n",
    "        in os.listdir(\"shortest_paths\")\n",
    "    ]\n",
    "    for r in file_ranges:\n",
    "        if r[0]<=node<=r[1]:\n",
    "            file = \"shortest_paths/%d_%d_lengths.txt\"%(r[0], r[1])\n",
    "            break\n",
    "    line = node - r[0] + 1\n",
    "    lengths = linecache.getline(\n",
    "        file,\n",
    "        line)\n",
    "    return [\n",
    "        int(i) \\\n",
    "        if i != \"nan\" \\\n",
    "        else np.nan\n",
    "        for i \\\n",
    "        in lengths[1:-2].split(\", \")\n",
    "    ]"
   ]
  },
  {
   "cell_type": "code",
   "execution_count": 49,
   "metadata": {},
   "outputs": [],
   "source": [
    "# length_freq = {}\n",
    "# for node in range(46669):\n",
    "#     for i in retrieve_all_lengths(node):\n",
    "#         if i in length_freq:\n",
    "#             length_freq[i] += 1\n",
    "#         else:\n",
    "#             length_freq[i] = 1\n",
    "# np.save(\"APL_freq.npy\", length_freq) "
   ]
  },
  {
   "cell_type": "code",
   "execution_count": 149,
   "metadata": {},
   "outputs": [],
   "source": [
    "training_lengths_freq_normalized = length_freq_normalized"
   ]
  },
  {
   "cell_type": "code",
   "execution_count": 35,
   "metadata": {},
   "outputs": [],
   "source": [
    "#training_lengths_freq = np.load(\"APL_freq.npy\", allow_pickle=True).item()\n",
    "training_lengths_freq_normalized = {}\n",
    "for i in training_lengths_freq:\n",
    "    training_lengths_freq_normalized[i] = training_lengths_freq[i] \\\n",
    "        /np.sum(list(training_lengths_freq.values()))"
   ]
  },
  {
   "cell_type": "code",
   "execution_count": 32,
   "metadata": {},
   "outputs": [],
   "source": [
    "training_lengths_freq = {1: 46669,\n",
    " 4: 1099472818,\n",
    " 6: 98440552,\n",
    " 5: 687424310,\n",
    " 3: 238203722,\n",
    " 8: 535650,\n",
    " 7: 7936026,\n",
    " 2: 600022,\n",
    " 9: 25196,\n",
    " 10: 802,\n",
    " 11: 24}"
   ]
  },
  {
   "cell_type": "code",
   "execution_count": 68,
   "metadata": {},
   "outputs": [
    {
     "data": {
      "text/plain": [
       "5.0"
      ]
     },
     "execution_count": 68,
     "metadata": {},
     "output_type": "execute_result"
    }
   ],
   "source": [
    "np.quantile(sample_dict_to_rv(training_lengths_freq_normalized, 10000), 0.9)"
   ]
  },
  {
   "cell_type": "markdown",
   "metadata": {},
   "source": [
    "### Average Path Length\n",
    "\n",
    "See: \n",
    "\n",
    "https://en.wikipedia.org/wiki/Average_path_length\n",
    "\n",
    "https://networkx.org/documentation/networkx-1.10/reference/generated/networkx.algorithms.shortest_paths.generic.average_shortest_path_length.html"
   ]
  },
  {
   "cell_type": "code",
   "execution_count": 92,
   "metadata": {},
   "outputs": [],
   "source": [
    "avg = np.average(\n",
    "    list(training_lengths_freq.keys()),\n",
    "    weights=list(training_lengths_freq.values())\n",
    ")"
   ]
  },
  {
   "cell_type": "code",
   "execution_count": 96,
   "metadata": {},
   "outputs": [],
   "source": [
    "var = np.average(\n",
    "    (list(training_lengths_freq.keys())-avg)**2,\n",
    "    weights=list(training_lengths_freq.values())\n",
    ")"
   ]
  },
  {
   "cell_type": "code",
   "execution_count": 98,
   "metadata": {
    "scrolled": true
   },
   "outputs": [
    {
     "data": {
      "text/plain": [
       "(4.314553265104021, 0.7475619326876991)"
      ]
     },
     "execution_count": 98,
     "metadata": {},
     "output_type": "execute_result"
    }
   ],
   "source": [
    "avg, np.sqrt(var)"
   ]
  },
  {
   "cell_type": "code",
   "execution_count": 29,
   "metadata": {},
   "outputs": [],
   "source": [
    "def dict_to_rv(freq_dict):\n",
    "    r = random.random()\n",
    "    s = 0\n",
    "    for i in sorted(freq_dict, reverse=False):\n",
    "        if r > s + freq_dict[i]:\n",
    "            s += freq_dict[i]\n",
    "        else:\n",
    "            return i\n",
    "\n",
    "def sample_dict_to_rv(freq_dict, samples):\n",
    "    return [\n",
    "        dict_to_rv(freq_dict) \\\n",
    "        for i in range(samples)\n",
    "    ]"
   ]
  },
  {
   "cell_type": "code",
   "execution_count": 329,
   "metadata": {},
   "outputs": [],
   "source": [
    "df = pd.DataFrame(\n",
    "    data = {\n",
    "    \"Shortest Path Length\" : sample_dict_to_rv(training_lengths_freq, 10000) + sample_dict_to_rv(validation_lengths_freq, 10000),\n",
    "    \"\" : [\"Training\"]*10000+[\"Validation\"]*10000\n",
    "    }\n",
    ")"
   ]
  },
  {
   "cell_type": "code",
   "execution_count": 331,
   "metadata": {},
   "outputs": [
    {
     "data": {
      "text/plain": [
       "<AxesSubplot:ylabel='Shortest Path Length'>"
      ]
     },
     "execution_count": 331,
     "metadata": {},
     "output_type": "execute_result"
    },
    {
     "data": {
      "image/png": "[encoded data removed]",
      "text/plain": [
       "<Figure size 432x288 with 1 Axes>"
      ]
     },
     "metadata": {},
     "output_type": "display_data"
    }
   ],
   "source": [
    "sns.boxplot(x=\"\", y=\"Shortest Path Length\", data=df)"
   ]
  },
  {
   "cell_type": "code",
   "execution_count": null,
   "metadata": {},
   "outputs": [],
   "source": []
  },
  {
   "cell_type": "code",
   "execution_count": null,
   "metadata": {},
   "outputs": [],
   "source": []
  },
  {
   "cell_type": "code",
   "execution_count": null,
   "metadata": {},
   "outputs": [],
   "source": []
  },
  {
   "cell_type": "code",
   "execution_count": null,
   "metadata": {},
   "outputs": [],
   "source": []
  },
  {
   "cell_type": "markdown",
   "metadata": {},
   "source": [
    "## Illustration of Shortest Path"
   ]
  },
  {
   "cell_type": "code",
   "execution_count": 8,
   "metadata": {},
   "outputs": [],
   "source": [
    "from IPython.display import SVG\n",
    "\n",
    "import numpy as np\n",
    "from scipy import sparse\n",
    "import pandas as pd\n",
    "\n",
    "import sknetwork.utils as utils\n",
    "from sknetwork.utils import edgelist2adjacency, edgelist2biadjacency\n",
    "from sknetwork.data import convert_edge_list, load_edge_list\n",
    "from sknetwork.visualization import svg_graph, svg_digraph, svg_bigraph"
   ]
  },
  {
   "cell_type": "code",
   "execution_count": 39,
   "metadata": {},
   "outputs": [
    {
     "name": "stdout",
     "output_type": "stream",
     "text": [
      "['C0836924', 'C0026691', 'C0027361', 'C0679693']\n"
     ]
    }
   ],
   "source": [
    "while True:\n",
    "    edge = (random.choice(list(KG.nodes)), random.choice(list(KG.nodes)))\n",
    "    if nx.astar_path_length(KG, edge[0], edge[1])==3:\n",
    "        initial_list = nx.astar_path(KG, edge[0], edge[1])\n",
    "        print(initial_list)\n",
    "        break"
   ]
  },
  {
   "cell_type": "code",
   "execution_count": 75,
   "metadata": {},
   "outputs": [
    {
     "name": "stdout",
     "output_type": "stream",
     "text": [
      "['C0679693', 'C1397014', 'C1415068', 'C0040300', 'C0035648', 'C0015230', 'C0012634', 'C0008059', 'C1550661', 'C0027361', 'C0836924', 'C0026691']\n"
     ]
    }
   ],
   "source": [
    "add_nodes = [\n",
    "    random.sample(\n",
    "        list(KG.neighbors(i)),\n",
    "        min(len(list(KG.neighbors(i))), 3)\n",
    "    ) \\\n",
    "    for i in initial_list\n",
    "]\n",
    "add_nodes = list(itertools.chain(*add_nodes))\n",
    "final_list = list(set(initial_list + add_nodes))\n",
    "print(final_list)"
   ]
  },
  {
   "cell_type": "code",
   "execution_count": 12,
   "metadata": {},
   "outputs": [],
   "source": [
    "# final_list = ['C0679693', 'C1397014', 'C1415068', 'C0040300', 'C0035648', 'C0015230', 'C0012634', 'C0008059', 'C1550661', 'C0027361', 'C0836924', 'C0026691']\n",
    "C = KG.subgraph(final_list)"
   ]
  },
  {
   "cell_type": "code",
   "execution_count": 27,
   "metadata": {},
   "outputs": [
    {
     "data": {
      "image/svg+xml": [
       "<svg xmlns=\"http://www.w3.org/2000/svg\" width=\"440\" height=\"340\">\n",
       "<path stroke-width=\"3\" stroke=\"black\" d=\"M 105 20 206 144\"/>\n",
       "<path stroke-width=\"3\" stroke=\"black\" d=\"M 206 144 156 154\"/>\n",
       "<path stroke-width=\"3\" stroke=\"black\" d=\"M 206 144 95 269\"/>\n",
       "<path stroke-width=\"3\" stroke=\"black\" d=\"M 206 144 279 70\"/>\n",
       "<path stroke-width=\"3\" stroke=\"black\" d=\"M 420 271 321 218\"/>\n",
       "<path stroke-width=\"3\" stroke=\"black\" d=\"M 420 271 259 247\"/>\n",
       "<path stroke-width=\"3\" stroke=\"black\" d=\"M 420 271 332 139\"/>\n",
       "<path stroke-width=\"3\" stroke=\"black\" d=\"M 332 139 399 169\"/>\n",
       "<path stroke-width=\"3\" stroke=\"black\" d=\"M 332 139 321 218\"/>\n",
       "<path stroke-width=\"3\" stroke=\"black\" d=\"M 332 139 206 144\"/>\n",
       "<path stroke-width=\"3\" stroke=\"black\" d=\"M 332 139 420 271\"/>\n",
       "<path stroke-width=\"3\" stroke=\"black\" d=\"M 332 139 156 154\"/>\n",
       "<path stroke-width=\"3\" stroke=\"black\" d=\"M 206 144 332 139\"/>\n",
       "<path stroke-width=\"3\" stroke=\"black\" d=\"M 332 139 279 70\"/>\n",
       "<path stroke-width=\"3\" stroke=\"black\" d=\"M 156 154 20 112\"/>\n",
       "<path stroke-width=\"3\" stroke=\"black\" d=\"M 156 154 198 320\"/>\n",
       "<path stroke-width=\"3\" stroke=\"black\" d=\"M 156 154 259 247\"/>\n",
       "<path stroke-width=\"3\" stroke=\"black\" d=\"M 156 154 206 144\"/>\n",
       "<path stroke-width=\"3\" stroke=\"black\" d=\"M 156 154 332 139\"/>\n",
       "<path stroke-width=\"3\" stroke=\"black\" d=\"M 156 154 279 70\"/>\n",
       "<path stroke-width=\"3\" stroke=\"black\" d=\"M 95 269 259 247\"/>\n",
       "<path stroke-width=\"3\" stroke=\"black\" d=\"M 95 269 206 144\"/>\n",
       "<path stroke-width=\"3\" stroke=\"black\" d=\"M 279 70 321 218\"/>\n",
       "<path stroke-width=\"3\" stroke=\"black\" d=\"M 279 70 206 144\"/>\n",
       "<path stroke-width=\"3\" stroke=\"black\" d=\"M 279 70 332 139\"/>\n",
       "<path stroke-width=\"3\" stroke=\"black\" d=\"M 156 154 105 20\"/>\n",
       "<path stroke-width=\"3\" stroke=\"black\" d=\"M 279 70 156 154\"/>\n",
       "<path stroke-width=\"3\" stroke=\"black\" d=\"M 206 144 259 247\"/>\n",
       "<path stroke-width=\"3\" stroke=\"black\" d=\"M 206 144 399 169\"/>\n",
       "<path stroke-width=\"3\" stroke=\"black\" d=\"M 105 20 156 154\"/>\n",
       "<path stroke-width=\"3\" stroke=\"black\" d=\"M 20 112 206 144\"/>\n",
       "<path stroke-width=\"3\" stroke=\"black\" d=\"M 20 112 156 154\"/>\n",
       "<path stroke-width=\"3\" stroke=\"black\" d=\"M 399 169 321 218\"/>\n",
       "<path stroke-width=\"3\" stroke=\"black\" d=\"M 399 169 259 247\"/>\n",
       "<path stroke-width=\"3\" stroke=\"black\" d=\"M 399 169 206 144\"/>\n",
       "<path stroke-width=\"3\" stroke=\"black\" d=\"M 399 169 332 139\"/>\n",
       "<path stroke-width=\"3\" stroke=\"black\" d=\"M 198 320 321 218\"/>\n",
       "<path stroke-width=\"3\" stroke=\"black\" d=\"M 198 320 156 154\"/>\n",
       "<path stroke-width=\"3\" stroke=\"black\" d=\"M 321 218 399 169\"/>\n",
       "<path stroke-width=\"3\" stroke=\"black\" d=\"M 321 218 198 320\"/>\n",
       "<path stroke-width=\"3\" stroke=\"black\" d=\"M 206 144 321 218\"/>\n",
       "<path stroke-width=\"3\" stroke=\"black\" d=\"M 321 218 259 247\"/>\n",
       "<path stroke-width=\"3\" stroke=\"black\" d=\"M 321 218 420 271\"/>\n",
       "<path stroke-width=\"3\" stroke=\"black\" d=\"M 321 218 332 139\"/>\n",
       "<path stroke-width=\"3\" stroke=\"black\" d=\"M 321 218 279 70\"/>\n",
       "<path stroke-width=\"3\" stroke=\"black\" d=\"M 259 247 399 169\"/>\n",
       "<path stroke-width=\"3\" stroke=\"black\" d=\"M 259 247 321 218\"/>\n",
       "<path stroke-width=\"3\" stroke=\"black\" d=\"M 259 247 206 144\"/>\n",
       "<path stroke-width=\"3\" stroke=\"black\" d=\"M 259 247 420 271\"/>\n",
       "<path stroke-width=\"3\" stroke=\"black\" d=\"M 259 247 156 154\"/>\n",
       "<path stroke-width=\"3\" stroke=\"black\" d=\"M 259 247 95 269\"/>\n",
       "<path stroke-width=\"3\" stroke=\"black\" d=\"M 206 144 105 20\"/>\n",
       "<path stroke-width=\"3\" stroke=\"black\" d=\"M 206 144 20 112\"/>\n",
       "<path stroke-width=\"3\" stroke=\"black\" d=\"M 321 218 206 144\"/>\n",
       "<path stroke-width=\"3\" stroke=\"black\" d=\"M 279 70 279 70\"/>\n",
       "<circle cx=\"105\" cy=\"20\" r=\"7.0\" style=\"fill:gray;stroke:black;stroke-width:1.0\"/>\n",
       "<circle cx=\"20\" cy=\"112\" r=\"7.0\" style=\"fill:gray;stroke:black;stroke-width:1.0\"/>\n",
       "<circle cx=\"399\" cy=\"169\" r=\"7.0\" style=\"fill:gray;stroke:black;stroke-width:1.0\"/>\n",
       "<circle cx=\"198\" cy=\"320\" r=\"7.0\" style=\"fill:gray;stroke:black;stroke-width:1.0\"/>\n",
       "<circle cx=\"321\" cy=\"218\" r=\"7.0\" style=\"fill:gray;stroke:black;stroke-width:1.0\"/>\n",
       "<circle cx=\"259\" cy=\"247\" r=\"7.0\" style=\"fill:gray;stroke:black;stroke-width:1.0\"/>\n",
       "<circle cx=\"206\" cy=\"144\" r=\"7.0\" style=\"fill:gray;stroke:black;stroke-width:1.0\"/>\n",
       "<circle cx=\"420\" cy=\"271\" r=\"7.0\" style=\"fill:gray;stroke:black;stroke-width:1.0\"/>\n",
       "<circle cx=\"332\" cy=\"139\" r=\"7.0\" style=\"fill:gray;stroke:black;stroke-width:1.0\"/>\n",
       "<circle cx=\"156\" cy=\"154\" r=\"7.0\" style=\"fill:gray;stroke:black;stroke-width:1.0\"/>\n",
       "<circle cx=\"95\" cy=\"269\" r=\"7.0\" style=\"fill:gray;stroke:black;stroke-width:1.0\"/>\n",
       "<circle cx=\"279\" cy=\"70\" r=\"7.0\" style=\"fill:gray;stroke:black;stroke-width:1.0\"/>\n",
       "</svg>"
      ],
      "text/plain": [
       "<IPython.core.display.SVG object>"
      ]
     },
     "execution_count": 27,
     "metadata": {},
     "output_type": "execute_result"
    }
   ],
   "source": [
    "adjacency = nx.adjacency_matrix(C).todense()\n",
    "adjacency = sparse.csr_matrix(adjacency)\n",
    "\n",
    "# path = initial_list\n",
    "# edge_labels = [\n",
    "#     (\n",
    "#         list(C).index(path[k]),\n",
    "#         list(C).index(path[k + 1]),\n",
    "#         0\n",
    "#     ) for k in range(len(path) - 1)\n",
    "# ]\n",
    "\n",
    "# image = svg_graph(\n",
    "#     adjacency,\n",
    "#     names = final_list,\n",
    "#     edge_labels=edge_labels,\n",
    "#     edge_width=3,\n",
    "#     display_edge_weight=False\n",
    "# )\n",
    "\n",
    "image = svg_graph(\n",
    "    adjacency,\n",
    "    edge_width=3,\n",
    "    display_edge_weight=False\n",
    ")\n",
    "\n",
    "SVG(image)"
   ]
  },
  {
   "cell_type": "code",
   "execution_count": null,
   "metadata": {},
   "outputs": [],
   "source": []
  },
  {
   "cell_type": "code",
   "execution_count": null,
   "metadata": {},
   "outputs": [],
   "source": []
  }
 ],
 "metadata": {
  "kernelspec": {
   "display_name": "Python 3",
   "language": "python",
   "name": "python3"
  },
  "language_info": {
   "codemirror_mode": {
    "name": "ipython",
    "version": 3
   },
   "file_extension": ".py",
   "mimetype": "text/x-python",
   "name": "python",
   "nbconvert_exporter": "python",
   "pygments_lexer": "ipython3",
   "version": "3.8.5"
  }
 },
 "nbformat": 4,
 "nbformat_minor": 4
}
